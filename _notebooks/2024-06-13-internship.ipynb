{
 "cells": [
  {
   "cell_type": "code",
   "execution_count": null,
   "metadata": {},
   "outputs": [],
   "source": [
    "import pandas as pd\n",
    "import matplotlib.pyplot as plt\n",
    "import seaborn as sns\n",
    "\n",
    "file_path = 'files/primary-screen-cell-line-info.csv'\n",
    "data = pd.read_csv(file_path)\n",
    "\n",
    "print(data.head())\n",
    "\n",
    "print(data.isnull().sum())\n",
    "\n",
    "data_cleaned = data.dropna(subset=['primary_tissue', 'secondary_tissue'])\n",
    "\n",
    "data_cleaned['passed_str_profiling'] = data_cleaned['passed_str_profiling'].astype(int)\n",
    "\n",
    "print(data_cleaned.head())\n",
    "\n",
    "sns.set(style=\"whitegrid\")\n",
    "\n",
    "# Plot 1: Bar plot for the distribution of primary tissues\n",
    "plt.figure(figsize=(12, 6))\n",
    "sns.countplot(y=data_cleaned['primary_tissue'], order=data_cleaned['primary_tissue'].value_counts().index)\n",
    "plt.title('Distribution of Primary Tissues')\n",
    "plt.xlabel('Count')\n",
    "plt.ylabel('Primary Tissue')\n",
    "plt.show()\n",
    "\n",
    "# Plot 2: Bar plot for the distribution of secondary tissues\n",
    "plt.figure(figsize=(12, 6))\n",
    "sns.countplot(y=data_cleaned['secondary_tissue'], order=data_cleaned['secondary_tissue'].value_counts().index)\n",
    "plt.title('Distribution of Secondary Tissues')\n",
    "plt.xlabel('Count')\n",
    "plt.ylabel('Secondary Tissue')\n",
    "plt.show()\n",
    "\n",
    "# Plot 4: Stacked Bar Plot for Primary and Secondary Tissues\n",
    "plt.figure(figsize=(14, 8))\n",
    "primary_secondary_counts = data_cleaned.groupby(['primary_tissue', 'secondary_tissue']).size().unstack().fillna(0)\n",
    "primary_secondary_counts.plot(kind='bar', stacked=True, figsize=(14, 8), colormap='viridis')\n",
    "plt.title('Stacked Bar Plot of Primary and Secondary Tissues')\n",
    "plt.xlabel('Primary Tissue')\n",
    "plt.ylabel('Count')\n",
    "plt.legend(title='Secondary Tissue')\n",
    "plt.show()\n",
    "\n",
    "# Plot 5: Heatmap of Primary vs. Secondary Tissues\n",
    "plt.figure(figsize=(14, 10))\n",
    "sns.heatmap(primary_secondary_counts, cmap='viridis', annot=True, fmt='g')\n",
    "plt.title('Heatmap of Primary vs. Secondary Tissues')\n",
    "plt.xlabel('Secondary Tissue')\n",
    "plt.ylabel('Primary Tissue')\n",
    "plt.show()\n",
    "\n",
    "# Plot 6: Pie Chart for Primary Tissues\n",
    "plt.figure(figsize=(10, 10))\n",
    "data_cleaned['primary_tissue'].value_counts().plot.pie(autopct='%1.1f%%', colors=sns.color_palette('viridis', n_colors=len(data_cleaned['primary_tissue'].unique())))\n",
    "plt.title('Proportion of Primary Tissues')\n",
    "plt.ylabel('')\n",
    "plt.show()\n"
   ]
  },
  {
   "cell_type": "code",
   "execution_count": null,
   "metadata": {},
   "outputs": [],
   "source": [
    "import pandas as pd\n",
    "\n",
    "file_path = 'files/oncokb_biomarker_drug_associations.tsv'\n",
    "\n",
    "data = pd.read_csv(file_path, sep='\\t')\n",
    "\n",
    "print(data)"
   ]
  },
  {
   "cell_type": "code",
   "execution_count": null,
   "metadata": {},
   "outputs": [],
   "source": [
    "import pandas as pd\n",
    "\n",
    "file_path = 'files/oncokb_biomarker_drug_associations.tsv'\n",
    "\n",
    "data = pd.read_csv(file_path, sep='\\t')\n",
    "\n",
    "filtered_data = data[data['Cancer Types'] == 'Melanoma']\n",
    "\n",
    "print(filtered_data)"
   ]
  },
  {
   "cell_type": "code",
   "execution_count": null,
   "metadata": {},
   "outputs": [],
   "source": [
    "import pandas as pd\n",
    "\n",
    "file_path = 'files/Repurposing_Public_24Q2_Cell_Line_Meta_Data.csv'\n",
    "\n",
    "data = pd.read_csv(file_path, sep=',')\n",
    "\n",
    "filtered_data = data[data['ccle_name'].str.contains('SKIN', case=False, na=False)]\n",
    "\n",
    "pd.set_option('display.max_rows', None)\n",
    "\n",
    "print(filtered_data)"
   ]
  },
  {
   "cell_type": "code",
   "execution_count": null,
   "metadata": {},
   "outputs": [],
   "source": [
    "import pandas as pd\n",
    "\n",
    "file1 = pd.read_csv('files/Repurposing_Public_24Q2_Cell_Line_Meta_Data.csv', sep=',')\n",
    "file2 = pd.read_csv('files/Repurposing_Public_24Q2_LFC_COLLAPSED.csv', sep=',')\n",
    "\n",
    "mapping = file1[['row_id', 'ccle_name']].drop_duplicates()\n",
    "\n",
    "row_id_to_ccle_name = dict(zip(mapping['row_id'], mapping['ccle_name']))\n",
    "\n",
    "file2['ccle_name'] = file2['row_id'].map(row_id_to_ccle_name)\n",
    "\n",
    "current_columns = file2.columns.tolist()\n",
    "\n",
    "current_columns = ['ccle_name'] + [col for col in current_columns if col != 'ccle_name']\n",
    "\n",
    "file2 = file2[current_columns]\n",
    "\n",
    "file2.to_csv('files/FinalizedData.csv', index=False)"
   ]
  }
 ],
 "metadata": {
  "kernelspec": {
   "display_name": "base",
   "language": "python",
   "name": "python3"
  },
  "language_info": {
   "codemirror_mode": {
    "name": "ipython",
    "version": 3
   },
   "file_extension": ".py",
   "mimetype": "text/x-python",
   "name": "python",
   "nbconvert_exporter": "python",
   "pygments_lexer": "ipython3",
   "version": "3.9.12"
  }
 },
 "nbformat": 4,
 "nbformat_minor": 2
}
